{
 "cells": [
  {
   "cell_type": "code",
   "execution_count": 3,
   "id": "9525a7f5",
   "metadata": {},
   "outputs": [],
   "source": [
    "import pandas as pd"
   ]
  },
  {
   "cell_type": "code",
   "execution_count": 4,
   "id": "b8ddee1d",
   "metadata": {},
   "outputs": [],
   "source": [
    "df = pd.read_csv(\"clean_salary_data.csv\")"
   ]
  },
  {
   "cell_type": "code",
   "execution_count": 5,
   "id": "19b6bfe9",
   "metadata": {},
   "outputs": [
    {
     "name": "stdout",
     "output_type": "stream",
     "text": [
      "<class 'pandas.core.frame.DataFrame'>\n",
      "RangeIndex: 6702 entries, 0 to 6701\n",
      "Data columns (total 9 columns):\n",
      " #   Column               Non-Null Count  Dtype  \n",
      "---  ------               --------------  -----  \n",
      " 0   Unnamed: 0           6702 non-null   int64  \n",
      " 1   Age                  6702 non-null   float64\n",
      " 2   Gender               6702 non-null   object \n",
      " 3   Education Level      6702 non-null   object \n",
      " 4   Job Title            6702 non-null   object \n",
      " 5   Years of Experience  6702 non-null   float64\n",
      " 6   Salary               6702 non-null   float64\n",
      " 7   Country              6702 non-null   object \n",
      " 8   Race                 6702 non-null   object \n",
      "dtypes: float64(3), int64(1), object(5)\n",
      "memory usage: 471.4+ KB\n"
     ]
    }
   ],
   "source": [
    "df.info()"
   ]
  },
  {
   "cell_type": "code",
   "execution_count": 6,
   "id": "e9e743ca",
   "metadata": {},
   "outputs": [
    {
     "data": {
      "text/plain": [
       "21.0"
      ]
     },
     "execution_count": 6,
     "metadata": {},
     "output_type": "execute_result"
    }
   ],
   "source": [
    "min_age = df['Age'].min()\n",
    "\n",
    "min_age"
   ]
  },
  {
   "cell_type": "code",
   "execution_count": 7,
   "id": "0079f073",
   "metadata": {},
   "outputs": [
    {
     "data": {
      "text/plain": [
       "62.0"
      ]
     },
     "execution_count": 7,
     "metadata": {},
     "output_type": "execute_result"
    }
   ],
   "source": [
    "max_age = df['Age'].max()\n",
    "\n",
    "max_age"
   ]
  },
  {
   "cell_type": "code",
   "execution_count": 8,
   "id": "f6aa2a4f",
   "metadata": {},
   "outputs": [
    {
     "data": {
      "text/plain": [
       "Male      3674\n",
       "Female    3014\n",
       "Other       14\n",
       "Name: Gender, dtype: int64"
      ]
     },
     "execution_count": 8,
     "metadata": {},
     "output_type": "execute_result"
    }
   ],
   "source": [
    "df['Gender'].value_counts()"
   ]
  },
  {
   "cell_type": "code",
   "execution_count": 9,
   "id": "511db72a",
   "metadata": {},
   "outputs": [
    {
     "data": {
      "text/plain": [
       "Bachelor's Degree    3023\n",
       "Master's Degree      1861\n",
       "PhD                  1370\n",
       "High School           448\n",
       "Name: Education Level, dtype: int64"
      ]
     },
     "execution_count": 9,
     "metadata": {},
     "output_type": "execute_result"
    }
   ],
   "source": [
    "df['Education Level'].value_counts()"
   ]
  },
  {
   "cell_type": "code",
   "execution_count": 10,
   "id": "7320f585",
   "metadata": {},
   "outputs": [
    {
     "data": {
      "text/plain": [
       "Software Engineer             518\n",
       "Data Scientist                453\n",
       "Software Engineer Manager     376\n",
       "Data Analyst                  363\n",
       "Senior Project Engineer       318\n",
       "                             ... \n",
       "Account Manager                 1\n",
       "Help Desk Analyst               1\n",
       "Senior Training Specialist      1\n",
       "Junior Web Designer             1\n",
       "Supply Chain Analyst            1\n",
       "Name: Job Title, Length: 193, dtype: int64"
      ]
     },
     "execution_count": 10,
     "metadata": {},
     "output_type": "execute_result"
    }
   ],
   "source": [
    "df['Job Title'].value_counts()"
   ]
  },
  {
   "cell_type": "code",
   "execution_count": 11,
   "id": "977d797d",
   "metadata": {},
   "outputs": [
    {
     "data": {
      "text/plain": [
       "0.0"
      ]
     },
     "execution_count": 11,
     "metadata": {},
     "output_type": "execute_result"
    }
   ],
   "source": [
    "min_yoe = df['Years of Experience'].min()\n",
    "\n",
    "min_yoe"
   ]
  },
  {
   "cell_type": "code",
   "execution_count": 12,
   "id": "bd19ca12",
   "metadata": {},
   "outputs": [
    {
     "data": {
      "text/plain": [
       "34.0"
      ]
     },
     "execution_count": 12,
     "metadata": {},
     "output_type": "execute_result"
    }
   ],
   "source": [
    "max_yoe = df['Years of Experience'].max()\n",
    "\n",
    "max_yoe"
   ]
  },
  {
   "cell_type": "code",
   "execution_count": 13,
   "id": "57050fa7",
   "metadata": {},
   "outputs": [
    {
     "data": {
      "text/plain": [
       "350.0"
      ]
     },
     "execution_count": 13,
     "metadata": {},
     "output_type": "execute_result"
    }
   ],
   "source": [
    "min_salary = df['Salary'].min()\n",
    "\n",
    "min_salary"
   ]
  },
  {
   "cell_type": "code",
   "execution_count": 14,
   "id": "b7da783e",
   "metadata": {},
   "outputs": [
    {
     "data": {
      "text/plain": [
       "250000.0"
      ]
     },
     "execution_count": 14,
     "metadata": {},
     "output_type": "execute_result"
    }
   ],
   "source": [
    "max_salary = df['Salary'].max()\n",
    "\n",
    "max_salary"
   ]
  },
  {
   "cell_type": "code",
   "execution_count": 15,
   "id": "9a16e938",
   "metadata": {},
   "outputs": [
    {
     "data": {
      "text/plain": [
       "USA          1360\n",
       "China        1343\n",
       "UK           1336\n",
       "Australia    1336\n",
       "Canada       1327\n",
       "Name: Country, dtype: int64"
      ]
     },
     "execution_count": 15,
     "metadata": {},
     "output_type": "execute_result"
    }
   ],
   "source": [
    "df['Country'].value_counts()"
   ]
  },
  {
   "cell_type": "code",
   "execution_count": 16,
   "id": "e6c897ab",
   "metadata": {},
   "outputs": [
    {
     "data": {
      "text/plain": [
       "White               1966\n",
       "Asian               1603\n",
       "Korean               457\n",
       "Australian           452\n",
       "Chinese              444\n",
       "Black                437\n",
       "African American     354\n",
       "Mixed                334\n",
       "Welsh                333\n",
       "Hispanic             322\n",
       "Name: Race, dtype: int64"
      ]
     },
     "execution_count": 16,
     "metadata": {},
     "output_type": "execute_result"
    }
   ],
   "source": [
    "df['Race'].value_counts()"
   ]
  },
  {
   "cell_type": "code",
   "execution_count": null,
   "id": "931bc435",
   "metadata": {},
   "outputs": [],
   "source": []
  }
 ],
 "metadata": {
  "kernelspec": {
   "display_name": "Python 3 (ipykernel)",
   "language": "python",
   "name": "python3"
  },
  "language_info": {
   "codemirror_mode": {
    "name": "ipython",
    "version": 3
   },
   "file_extension": ".py",
   "mimetype": "text/x-python",
   "name": "python",
   "nbconvert_exporter": "python",
   "pygments_lexer": "ipython3",
   "version": "3.10.9"
  }
 },
 "nbformat": 4,
 "nbformat_minor": 5
}
