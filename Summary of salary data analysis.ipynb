{
 "cells": [
  {
   "cell_type": "markdown",
   "id": "55136738-372e-47f9-a979-50e3c30f839b",
   "metadata": {},
   "source": [
    "# Summarization of our first data analysis\n",
    "We will practice arranging, interpreting and visualization for all the questions\n",
    "- Is there any relationship between who a person works for and their performance score?\n",
    "- What is the overall diversity profile of the organization?\n",
    "- What are our best recruiting sources if we want to ensure a diverse organization?\n",
    "- Can we predict who is going to terminate and who isn't? What level of accuracy can we achieve on this?\n",
    "- Are there areas of the company where pay is not equitable?"
   ]
  },
  {
   "cell_type": "code",
   "execution_count": null,
   "id": "175a39eb-6661-4798-84db-a8b1e1786129",
   "metadata": {
    "tags": []
   },
   "outputs": [
    {
     "name": "stdout",
     "output_type": "stream",
     "text": [
      "Collecting package metadata (current_repodata.json): done\n",
      "Solving environment: \\ "
     ]
    }
   ],
   "source": [
    "!conda install pandas numpy seaborn matplotlib"
   ]
  },
  {
   "cell_type": "code",
   "execution_count": 3,
   "id": "7fa76d99-1892-4571-a7f6-fa32fe1d835b",
   "metadata": {
    "tags": []
   },
   "outputs": [],
   "source": [
    "import pandas as pd\n",
    "import numpy as np\n",
    "import seaborn as sns\n",
    "import matplotlib.pyplot as plt"
   ]
  },
  {
   "cell_type": "code",
   "execution_count": 4,
   "id": "ef4e9ac5-bf3e-414b-bf6b-aaae42cf9fb9",
   "metadata": {
    "tags": []
   },
   "outputs": [],
   "source": [
    "hr_data = pd.read_csv(r\"dataset/HRDataset_v14.csv\")"
   ]
  },
  {
   "cell_type": "code",
   "execution_count": 17,
   "id": "fcf9d07b-c102-401b-94b2-4a2bf72c852e",
   "metadata": {
    "tags": []
   },
   "outputs": [],
   "source": [
    "# check what is in the dataset\n",
    "# find the missing value\n",
    "# find duplicates\n",
    "# find unique values"
   ]
  },
  {
   "cell_type": "code",
   "execution_count": 10,
   "id": "49da5104-79d7-4513-880e-bde3301851ff",
   "metadata": {
    "tags": []
   },
   "outputs": [
    {
     "name": "stdout",
     "output_type": "stream",
     "text": [
      "<class 'pandas.core.frame.DataFrame'>\n",
      "RangeIndex: 311 entries, 0 to 310\n",
      "Data columns (total 36 columns):\n",
      " #   Column                      Non-Null Count  Dtype  \n",
      "---  ------                      --------------  -----  \n",
      " 0   Employee_Name               311 non-null    object \n",
      " 1   EmpID                       311 non-null    int64  \n",
      " 2   MarriedID                   311 non-null    int64  \n",
      " 3   MaritalStatusID             311 non-null    int64  \n",
      " 4   GenderID                    311 non-null    int64  \n",
      " 5   EmpStatusID                 311 non-null    int64  \n",
      " 6   DeptID                      311 non-null    int64  \n",
      " 7   PerfScoreID                 311 non-null    int64  \n",
      " 8   FromDiversityJobFairID      311 non-null    int64  \n",
      " 9   Salary                      311 non-null    int64  \n",
      " 10  Termd                       311 non-null    int64  \n",
      " 11  PositionID                  311 non-null    int64  \n",
      " 12  Position                    311 non-null    object \n",
      " 13  State                       311 non-null    object \n",
      " 14  Zip                         311 non-null    int64  \n",
      " 15  DOB                         311 non-null    object \n",
      " 16  Sex                         311 non-null    object \n",
      " 17  MaritalDesc                 311 non-null    object \n",
      " 18  CitizenDesc                 311 non-null    object \n",
      " 19  HispanicLatino              311 non-null    object \n",
      " 20  RaceDesc                    311 non-null    object \n",
      " 21  DateofHire                  311 non-null    object \n",
      " 22  DateofTermination           104 non-null    object \n",
      " 23  TermReason                  311 non-null    object \n",
      " 24  EmploymentStatus            311 non-null    object \n",
      " 25  Department                  311 non-null    object \n",
      " 26  ManagerName                 311 non-null    object \n",
      " 27  ManagerID                   303 non-null    float64\n",
      " 28  RecruitmentSource           311 non-null    object \n",
      " 29  PerformanceScore            311 non-null    object \n",
      " 30  EngagementSurvey            311 non-null    float64\n",
      " 31  EmpSatisfaction             311 non-null    int64  \n",
      " 32  SpecialProjectsCount        311 non-null    int64  \n",
      " 33  LastPerformanceReview_Date  311 non-null    object \n",
      " 34  DaysLateLast30              311 non-null    int64  \n",
      " 35  Absences                    311 non-null    int64  \n",
      "dtypes: float64(2), int64(16), object(18)\n",
      "memory usage: 87.6+ KB\n"
     ]
    }
   ],
   "source": [
    "hr_data.info()"
   ]
  },
  {
   "cell_type": "code",
   "execution_count": 8,
   "id": "6e574595-186b-4868-9759-af67ca6bbe95",
   "metadata": {
    "tags": []
   },
   "outputs": [
    {
     "data": {
      "text/plain": [
       "Employee_Name                   0\n",
       "EmpID                           0\n",
       "MarriedID                       0\n",
       "MaritalStatusID                 0\n",
       "GenderID                        0\n",
       "EmpStatusID                     0\n",
       "DeptID                          0\n",
       "PerfScoreID                     0\n",
       "FromDiversityJobFairID          0\n",
       "Salary                          0\n",
       "Termd                           0\n",
       "PositionID                      0\n",
       "Position                        0\n",
       "State                           0\n",
       "Zip                             0\n",
       "DOB                             0\n",
       "Sex                             0\n",
       "MaritalDesc                     0\n",
       "CitizenDesc                     0\n",
       "HispanicLatino                  0\n",
       "RaceDesc                        0\n",
       "DateofHire                      0\n",
       "DateofTermination             207\n",
       "TermReason                      0\n",
       "EmploymentStatus                0\n",
       "Department                      0\n",
       "ManagerName                     0\n",
       "ManagerID                       8\n",
       "RecruitmentSource               0\n",
       "PerformanceScore                0\n",
       "EngagementSurvey                0\n",
       "EmpSatisfaction                 0\n",
       "SpecialProjectsCount            0\n",
       "LastPerformanceReview_Date      0\n",
       "DaysLateLast30                  0\n",
       "Absences                        0\n",
       "dtype: int64"
      ]
     },
     "execution_count": 8,
     "metadata": {},
     "output_type": "execute_result"
    }
   ],
   "source": [
    "hr_data.isnull().sum()"
   ]
  },
  {
   "cell_type": "code",
   "execution_count": 16,
   "id": "05bda6df-ba07-4144-952a-3e7f456f6f4b",
   "metadata": {
    "tags": []
   },
   "outputs": [
    {
     "name": "stdout",
     "output_type": "stream",
     "text": [
      "Employee_Name                 311\n",
      "EmpID                         311\n",
      "MarriedID                       2\n",
      "MaritalStatusID                 5\n",
      "GenderID                        2\n",
      "EmpStatusID                     5\n",
      "DeptID                          6\n",
      "PerfScoreID                     4\n",
      "FromDiversityJobFairID          2\n",
      "Salary                        308\n",
      "Termd                           2\n",
      "PositionID                     30\n",
      "Position                       32\n",
      "State                          28\n",
      "Zip                           158\n",
      "DOB                           307\n",
      "Sex                             2\n",
      "MaritalDesc                     5\n",
      "CitizenDesc                     3\n",
      "HispanicLatino                  4\n",
      "RaceDesc                        6\n",
      "DateofHire                    101\n",
      "DateofTermination              96\n",
      "TermReason                     18\n",
      "EmploymentStatus                3\n",
      "Department                      6\n",
      "ManagerName                    21\n",
      "ManagerID                      23\n",
      "RecruitmentSource               9\n",
      "PerformanceScore                4\n",
      "EngagementSurvey              119\n",
      "EmpSatisfaction                 5\n",
      "SpecialProjectsCount            9\n",
      "LastPerformanceReview_Date    137\n",
      "DaysLateLast30                  7\n",
      "Absences                       20\n",
      "dtype: int64\n"
     ]
    }
   ],
   "source": [
    "unique_value = hr_data.nunique()\n",
    "print(unique_value)"
   ]
  },
  {
   "cell_type": "code",
   "execution_count": 19,
   "id": "72736306-50aa-45bb-a901-2f1a0ad6d40f",
   "metadata": {
    "tags": []
   },
   "outputs": [
    {
     "name": "stdout",
     "output_type": "stream",
     "text": [
      "No. of duplicated values:  0\n"
     ]
    }
   ],
   "source": [
    "duplicate_values = hr_data.duplicated().sum()\n",
    "print(\"No. of duplicated values: \",duplicate_values)"
   ]
  },
  {
   "cell_type": "markdown",
   "id": "acfdadaf-a455-44fc-9a24-e3e0209b7294",
   "metadata": {},
   "source": [
    "# 1. Is there any relationship between who a person works for and their performance score?\n",
    "- what will you look into it?\n",
    "- Good managers and other managers and their employees' PerfScoreID\n",
    "- ManagerName and employees' PerfScoreID\n",
    "- Visual chart"
   ]
  },
  {
   "cell_type": "code",
   "execution_count": 22,
   "id": "1ce22bbc-d90c-4322-8ff7-3ff820849081",
   "metadata": {
    "tags": []
   },
   "outputs": [
    {
     "name": "stdout",
     "output_type": "stream",
     "text": [
      "WorksforManager\n",
      "No     63181.919811\n",
      "Yes    81523.898990\n",
      "Name: Salary, dtype: float64\n"
     ]
    }
   ],
   "source": [
    "# First we need to calculate the average PerfScoreID for each manager\n",
    "manager_perf_score= hr_data.groupby('ManagerName')['PerfScoreID'].mean()\n",
    "\n",
    "#Second we need to define a threshold for what you consider as 'good' managers\n",
    "good_manager_threshold= 3\n",
    "\n",
    "#Then we create a list of good managers\n",
    "good_managers = manager_perf_score[manager_perf_score >good_manager_threshold].index.tolist()\n",
    "\n",
    "# Categories each employee based on whether they work for 'good' managers or not\n",
    "hr_data['WorksforManager']=hr_data['ManagerName'].apply(lambda x: \"Yes\" if x in good_managers else \"No\")\n",
    "\n",
    "#compare the avg.salaries\n",
    "avg_sal_comparison = hr_data.groupby('WorksforManager')['Salary'].mean()\n",
    "\n",
    "print(avg_sal_comparison)"
   ]
  },
  {
   "cell_type": "code",
   "execution_count": 24,
   "id": "dbbf95be-cf5c-47d2-a658-2e0460693feb",
   "metadata": {
    "tags": []
   },
   "outputs": [
    {
     "data": {
      "image/png": "[encoded data removed]",
      "text/plain": [
       "<Figure size 640x480 with 1 Axes>"
      ]
     },
     "metadata": {},
     "output_type": "display_data"
    }
   ],
   "source": [
    "# visualisation\n",
    "#Identify good managers based on the performance score threshold\n",
    "manager_performance = hr_data.groupby('ManagerName')['PerfScoreID'].mean()\n",
    "good_managers = manager_performance[manager_performance>3].index.tolist()\n",
    "\n",
    "# Flag employees who work for 'good' managers\n",
    "hr_data['ManagerQuality'] =hr_data['ManagerName'].apply(lambda x: 'Good Manager' if x in good_managers else 'Other Managers')\n",
    "\n",
    "# Calculate average salaries of each group\n",
    "avg_sal_by_manager_quality= hr_data.groupby('ManagerQuality')['Salary'].mean()\n",
    "\n",
    "#Plot bar chart\n",
    "avg_sal_by_manager_quality.plot(kind='bar', color =['green','skyblue'])\n",
    "plt.title('Average salaries: Good Manager vs Other Managers')\n",
    "plt.xlabel('Manager Quality')\n",
    "plt.xticks(rotation=0)\n",
    "plt.ylabel('Avg. salary')\n",
    "plt.show()"
   ]
  },
  {
   "cell_type": "markdown",
   "id": "8d9fc51c-ecba-45ba-86db-32aa704d0f36",
   "metadata": {},
   "source": [
    "# What is the overall diversity profile of the organization?\n",
    "- calculate the count and percentage of each race\n",
    "- also calculate for each gender\n"
   ]
  },
  {
   "cell_type": "code",
   "execution_count": 10,
   "id": "f9c700d1-ab03-4060-ace2-ce05015d5ef3",
   "metadata": {
    "tags": []
   },
   "outputs": [
    {
     "data": {
      "text/plain": [
       "(White                               187\n",
       " Black or African American            80\n",
       " Asian                                29\n",
       " Two or more races                    11\n",
       " American Indian or Alaska Native      3\n",
       " Hispanic                              1\n",
       " Name: RaceDesc, dtype: int64,\n",
       " White                               60.128617\n",
       " Black or African American           25.723473\n",
       " Asian                                9.324759\n",
       " Two or more races                    3.536977\n",
       " American Indian or Alaska Native     0.964630\n",
       " Hispanic                             0.321543\n",
       " Name: RaceDesc, dtype: float64,\n",
       " White                               187\n",
       " Black or African American            80\n",
       " Asian                                29\n",
       " Two or more races                    11\n",
       " American Indian or Alaska Native      3\n",
       " Hispanic                              1\n",
       " Name: RaceDesc, dtype: int64,\n",
       " 0    56.59164\n",
       " 1    43.40836\n",
       " Name: GenderID, dtype: float64)"
      ]
     },
     "execution_count": 10,
     "metadata": {},
     "output_type": "execute_result"
    }
   ],
   "source": [
    "race_counts = hr_data['RaceDesc'].value_counts()\n",
    "race_percentage = hr_data['RaceDesc'].value_counts(normalize = True)*100\n",
    "\n",
    "gender_counts = hr_data['RaceDesc'].value_counts()\n",
    "gender_percentage = hr_data['GenderID'].value_counts(normalize =True)*100\n",
    "\n",
    "(race_counts, race_percentage, gender_counts, gender_percentage)"
   ]
  },
  {
   "cell_type": "code",
   "execution_count": 19,
   "id": "fb7ff470-7903-4286-88bc-e07d9483380d",
   "metadata": {
    "tags": []
   },
   "outputs": [
    {
     "data": {
      "image/png": "[encoded data removed]",
      "text/plain": [
       "<Figure size 600x600 with 1 Axes>"
      ]
     },
     "metadata": {},
     "output_type": "display_data"
    }
   ],
   "source": [
    "gender_diversity = hr_data['GenderID'].value_counts(normalize= True)\n",
    "plt.figure(figsize=(6,6))\n",
    "gender_diversity.plot(kind ='pie', labels=['Female','Male'], autopct = '%1.1f%%')\n",
    "plt.title('Gender Diversity Profile')\n",
    "plt.show()"
   ]
  }
 ],
 "metadata": {
  "kernelspec": {
   "display_name": "Python 3 (ipykernel)",
   "language": "python",
   "name": "python3"
  },
  "language_info": {
   "codemirror_mode": {
    "name": "ipython",
    "version": 3
   },
   "file_extension": ".py",
   "mimetype": "text/x-python",
   "name": "python",
   "nbconvert_exporter": "python",
   "pygments_lexer": "ipython3",
   "version": "3.10.9"
  }
 },
 "nbformat": 4,
 "nbformat_minor": 5
}
